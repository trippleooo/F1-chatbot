{
  "nbformat": 4,
  "nbformat_minor": 0,
  "metadata": {
    "colab": {
      "provenance": [],
      "authorship_tag": "ABX9TyMLbG1znVUC+k6258RQ5aub",
      "include_colab_link": true
    },
    "kernelspec": {
      "name": "python3",
      "display_name": "Python 3"
    },
    "language_info": {
      "name": "python"
    }
  },
  "cells": [
    {
      "cell_type": "markdown",
      "metadata": {
        "id": "view-in-github",
        "colab_type": "text"
      },
      "source": [
        "<a href=\"https://colab.research.google.com/github/trippleooo/F1-chatbot/blob/main/Untitled70.ipynb\" target=\"_parent\"><img src=\"https://colab.research.google.com/assets/colab-badge.svg\" alt=\"Open In Colab\"/></a>"
      ]
    },
    {
      "cell_type": "code",
      "execution_count": 1,
      "metadata": {
        "colab": {
          "base_uri": "https://localhost:8080/"
        },
        "id": "IG4z1_GsgN1C",
        "outputId": "d5927246-a999-4848-f689-340e7e6ddd83"
      },
      "outputs": [
        {
          "output_type": "stream",
          "name": "stdout",
          "text": [
            "\u001b[2K     \u001b[90m━━━━━━━━━━━━━━━━━━━━━━━━━━━━━━━━━━━━━━━━\u001b[0m \u001b[32m44.3/44.3 kB\u001b[0m \u001b[31m1.7 MB/s\u001b[0m eta \u001b[36m0:00:00\u001b[0m\n",
            "\u001b[2K   \u001b[90m━━━━━━━━━━━━━━━━━━━━━━━━━━━━━━━━━━━━━━━━\u001b[0m \u001b[32m10.1/10.1 MB\u001b[0m \u001b[31m68.4 MB/s\u001b[0m eta \u001b[36m0:00:00\u001b[0m\n",
            "\u001b[2K   \u001b[90m━━━━━━━━━━━━━━━━━━━━━━━━━━━━━━━━━━━━━━━━\u001b[0m \u001b[32m6.9/6.9 MB\u001b[0m \u001b[31m100.7 MB/s\u001b[0m eta \u001b[36m0:00:00\u001b[0m\n",
            "\u001b[2K   \u001b[90m━━━━━━━━━━━━━━━━━━━━━━━━━━━━━━━━━━━━━━━━\u001b[0m \u001b[32m79.1/79.1 kB\u001b[0m \u001b[31m6.4 MB/s\u001b[0m eta \u001b[36m0:00:00\u001b[0m\n",
            "\u001b[?25h"
          ]
        }
      ],
      "source": [
        "!pip install streamlit pyngrok --quiet\n"
      ]
    },
    {
      "cell_type": "code",
      "source": [
        "f1_text = \"\"\"\n",
        "Formula One, or F1, is the top level of car racing for single-seat cars.\n",
        "The first F1 World Championship race happened in 1950 at Silverstone.\n",
        "Lewis Hamilton and Michael Schumacher both have seven world titles.\n",
        "Max Verstappen won the 2023 F1 championship driving for Red Bull.\n",
        "The Monaco Grand Prix is famous for being raced on tight city streets.\n",
        "F1 cars can go from 0 to 100 km/h in about 2.5 seconds.\n",
        "Races are held every weekend and include practice, qualifying, and the race.\n",
        "The FIA (Fédération Internationale de l'Automobile) manages F1.\n",
        "Tire strategy is important and includes soft, medium, and hard compounds.\n",
        "The Drag Reduction System (DRS) helps drivers overtake by reducing drag.\n",
        "\"\"\"\n",
        "\n",
        "with open(\"formula1.txt\", \"w\") as f:\n",
        "    f.write(f1_text)\n"
      ],
      "metadata": {
        "id": "gdIkJpMigSOS"
      },
      "execution_count": 2,
      "outputs": []
    },
    {
      "cell_type": "code",
      "source": [
        "code = '''\n",
        "import streamlit as st\n",
        "\n",
        "# Load sentences from file\n",
        "with open(\"formula1.txt\", \"r\") as f:\n",
        "    sentences = [s.strip() for s in f.read().split(\".\") if s.strip()]\n",
        "\n",
        "# Preprocessing (basic lowercase + punctuation removal)\n",
        "def clean(text):\n",
        "    return text.lower().replace(\",\", \"\").replace(\".\", \"\")\n",
        "\n",
        "# Jaccard Similarity\n",
        "def get_best_match(query):\n",
        "    query_set = set(clean(query).split())\n",
        "    best_score = 0\n",
        "    best_sentence = \"Sorry, I don't know the answer to that.\"\n",
        "    for sentence in sentences:\n",
        "        sentence_set = set(clean(sentence).split())\n",
        "        score = len(query_set & sentence_set) / len(query_set | sentence_set)\n",
        "        if score > best_score:\n",
        "            best_score = score\n",
        "            best_sentence = sentence\n",
        "    return best_sentence\n",
        "\n",
        "# Streamlit Interface\n",
        "def main():\n",
        "    st.title(\"F1 Chatbot (No NLTK)\")\n",
        "    st.write(\"Ask me anything about Formula One racing!\")\n",
        "    user_input = st.text_input(\"You:\")\n",
        "    if st.button(\"Submit\"):\n",
        "        response = get_best_match(user_input)\n",
        "        st.write(\"Chatbot: \" + response)\n",
        "\n",
        "if __name__ == \"__main__\":\n",
        "    main()\n",
        "'''\n",
        "\n",
        "with open(\"f1_chatbot.py\", \"w\") as f:\n",
        "    f.write(code)\n"
      ],
      "metadata": {
        "id": "kCqm-3DXgZrt"
      },
      "execution_count": 3,
      "outputs": []
    },
    {
      "cell_type": "code",
      "source": [],
      "metadata": {
        "id": "24hBhYT5ggZR"
      },
      "execution_count": null,
      "outputs": []
    }
  ]
}